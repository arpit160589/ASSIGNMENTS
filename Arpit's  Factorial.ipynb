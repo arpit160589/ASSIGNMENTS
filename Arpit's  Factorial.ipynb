{
 "cells": [
  {
   "cell_type": "markdown",
   "metadata": {},
   "source": [
    "# Assignmement:1"
   ]
  },
  {
   "cell_type": "code",
   "execution_count": 4,
   "metadata": {},
   "outputs": [],
   "source": [
    "#    Write program in which youhave enter an int value at runtime and \n",
    " #   calculate the fatorial of a number. Also you need to do this inside infite loop,and break it with the hel of \"break\" keyword"
   ]
  },
  {
   "cell_type": "code",
   "execution_count": 6,
   "metadata": {},
   "outputs": [
    {
     "name": "stdout",
     "output_type": "stream",
     "text": [
      "Enter the number:8\n",
      "factorial is: 8\n",
      "factorial is: 56\n",
      "factorial is: 336\n",
      "factorial is: 1680\n",
      "factorial is: 6720\n",
      "factorial is: 20160\n",
      "factorial is: 40320\n",
      "Enter the number:7\n",
      "factorial is: 7\n",
      "factorial is: 42\n",
      "factorial is: 210\n",
      "factorial is: 840\n",
      "factorial is: 2520\n",
      "factorial is: 5040\n",
      "Enter the number:0\n",
      "Congrats you are out of For Loop!!!.\n"
     ]
    }
   ],
   "source": [
    "from time import sleep\n",
    "while True:\n",
    "    n = int(input(\"Enter the number:\"))\n",
    "    if n == 0:\n",
    "        break\n",
    "    fact = 1\n",
    "    for i in range(n,1,-1):\n",
    "        fact = i*fact\n",
    "        print('factorial is:',fact)\n",
    "        sleep(0.3)\n",
    "print(\"Congrats you are out of For Loop!!!.\")\n"
   ]
  },
  {
   "cell_type": "code",
   "execution_count": null,
   "metadata": {},
   "outputs": [],
   "source": []
  },
  {
   "cell_type": "code",
   "execution_count": null,
   "metadata": {},
   "outputs": [],
   "source": []
  }
 ],
 "metadata": {
  "kernelspec": {
   "display_name": "Python 3",
   "language": "python",
   "name": "python3"
  },
  "language_info": {
   "codemirror_mode": {
    "name": "ipython",
    "version": 3
   },
   "file_extension": ".py",
   "mimetype": "text/x-python",
   "name": "python",
   "nbconvert_exporter": "python",
   "pygments_lexer": "ipython3",
   "version": "3.7.4"
  }
 },
 "nbformat": 4,
 "nbformat_minor": 2
}

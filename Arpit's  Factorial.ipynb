{
 "cells": [
  {
   "cell_type": "markdown",
   "metadata": {},
   "source": [
    "# Assignmement:1"
   ]
  },
  {
   "cell_type": "code",
   "execution_count": 4,
   "metadata": {},
   "outputs": [],
   "source": [
    "#    Write program in which youhave enter an int value at runtime and \n",
    " #   calculate the fatorial of a number. Also you need to do this inside infite loop,and break it with the hel of \"break\" keyword"
   ]
  },
  {
   "cell_type": "code",
   "execution_count": 19,
   "metadata": {},
   "outputs": [
    {
     "name": "stdout",
     "output_type": "stream",
     "text": [
      "Enter the number:5\n"
     ]
    }
   ],
   "source": [
    "from time import sleep\n",
    "while True:\n",
    "    n = int(input(\"Enter the number:\"))\n",
    "    if num == 0:\n",
    "        break\n",
    "        print(\"Congrats you are out ot For Loop!!!.\")\n",
    "    fact = 1\n",
    "    for i in range(n,1,-1):\n",
    "        fact = fact*i\n",
    "        sleep(0.3)\n",
    "        print('factorial is:',fact) \n"
   ]
  },
  {
   "cell_type": "code",
   "execution_count": null,
   "metadata": {},
   "outputs": [],
   "source": []
  },
  {
   "cell_type": "code",
   "execution_count": null,
   "metadata": {},
   "outputs": [],
   "source": []
  }
 ],
 "metadata": {
  "kernelspec": {
   "display_name": "Python 3",
   "language": "python",
   "name": "python3"
  },
  "language_info": {
   "codemirror_mode": {
    "name": "ipython",
    "version": 3
   },
   "file_extension": ".py",
   "mimetype": "text/x-python",
   "name": "python",
   "nbconvert_exporter": "python",
   "pygments_lexer": "ipython3",
   "version": "3.7.4"
  }
 },
 "nbformat": 4,
 "nbformat_minor": 2
}
